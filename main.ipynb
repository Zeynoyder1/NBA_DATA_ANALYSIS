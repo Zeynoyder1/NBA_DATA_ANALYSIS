{
 "cells": [
  {
   "cell_type": "markdown",
   "id": "c0c3c879-06bb-4442-834f-1c8fbb9e09c8",
   "metadata": {},
   "source": [
    "# NBA DATA ANALYSIS"
   ]
  },
  {
   "cell_type": "code",
   "execution_count": 235,
   "id": "759ebb5c-ea84-4457-a073-a30f8f7fc376",
   "metadata": {
    "scrolled": true
   },
   "outputs": [
    {
     "name": "stdout",
     "output_type": "stream",
     "text": [
      "   Unnamed: 0        Player Name    Salary Position  Age     Team  GP  GS  \\\n",
      "0           0      Stephen Curry  48070014       PG   34      GSW  56  56   \n",
      "1           1          John Wall  47345760       PG   32      LAC  34   3   \n",
      "2           2  Russell Westbrook  47080179       PG   34  LAL/LAC  73  24   \n",
      "3           3       LeBron James  44474988       PF   38      LAL  55  54   \n",
      "4           4       Kevin Durant  44119845       PF   34  BRK/PHO  47  47   \n",
      "\n",
      "     MP    FG  ...  TOV%  USG%  OWS  DWS   WS  WS/48  OBPM  DBPM  BPM  VORP  \n",
      "0  34.7  10.0  ...  12.5  31.0  5.8  2.0  7.8  0.192   7.5   0.1  7.5   4.7  \n",
      "1  22.2   4.1  ...  17.1  27.0 -0.4  0.7  0.3  0.020  -0.8  -0.4 -1.2   0.1  \n",
      "2  29.1   5.9  ...  18.4  27.7 -0.6  2.6  1.9  0.044   0.3  -0.1  0.2   1.2  \n",
      "3  35.5  11.1  ...  11.6  33.3  3.2  2.4  5.6  0.138   5.5   0.6  6.1   4.0  \n",
      "4  35.6  10.3  ...  13.4  30.7  4.7  2.1  6.8  0.194   6.0   1.2  7.1   3.9  \n",
      "\n",
      "[5 rows x 52 columns]\n"
     ]
    }
   ],
   "source": [
    "import pandas as pd\n",
    "\n",
    "file_path = 'nba_2022-23_all_stats_with_salary.csv'\n",
    "\n",
    "data = pd.read_csv(file_path, encoding='ISO-8859-1')\n",
    "\n",
    "print(data.head())\n",
    "\n"
   ]
  },
  {
   "cell_type": "code",
   "execution_count": 343,
   "id": "f5790796-9fcf-4e4e-9411-f7080b5529d2",
   "metadata": {},
   "outputs": [
    {
     "data": {
      "text/plain": [
       "array(['PG', 'PF', 'SG', 'SF', 'C'], dtype=object)"
      ]
     },
     "execution_count": 343,
     "metadata": {},
     "output_type": "execute_result"
    }
   ],
   "source": [
    "#Orginizing the data for better result\n",
    "data.loc[data[\"Position\"] == 'PG-SG', \"Position\"] = 'PG'\n",
    "data.loc[data[\"Position\"] == 'SF-SG', \"Position\"] = 'SG'\n",
    "data.loc[data[\"Position\"] == 'SG-PG', \"Position\"] = 'SG'\n",
    "data.loc[data[\"Position\"] == 'SF-PF', \"Position\"] = 'PF'\n",
    "\n",
    "data.Position.unique()"
   ]
  },
  {
   "cell_type": "code",
   "execution_count": 345,
   "id": "7aba6b78-fa84-4366-adde-33be2f81778f",
   "metadata": {},
   "outputs": [
    {
     "name": "stdout",
     "output_type": "stream",
     "text": [
      "Average salary in the NBA is: 8416598.74732334\n",
      "Average age in the NBA is: 25.820128479657388\n",
      "Player name and salaries: Player Name\n",
      "AJ Griffin          3536160.0\n",
      "Aaron Gordon       20690909.0\n",
      "Aaron Holiday       1968175.0\n",
      "Aaron Nesmith       3804360.0\n",
      "Aaron Wiggins       1563518.0\n",
      "                      ...    \n",
      "Zach Collins        7350000.0\n",
      "Zach LaVine        37096500.0\n",
      "Zeke Nnaji          2617800.0\n",
      "Ziaire Williams     4591680.0\n",
      "Zion Williamson    13534817.0\n",
      "Name: Salary, Length: 467, dtype: float64\n",
      "Highest salary in the NBA belongs to: Stephen Curry\n"
     ]
    }
   ],
   "source": [
    "average_salary = data[\"Salary\"].mean()\n",
    "average_age = data[\"Age\"].mean()\n",
    "player_name = data.groupby(\"Player Name\")[\"Salary\"].mean()\n",
    "highest = player_name.idxmax()\n",
    "\n",
    "print(f\"Average salary in the NBA is: {average_salary}\")\n",
    "print(f\"Average age in the NBA is: {average_age}\")\n",
    "print(f\"Player name and salaries: {player_name}\")\n",
    "print(f\"Highest salary in the NBA belongs to: {highest}\")"
   ]
  },
  {
   "cell_type": "code",
   "execution_count": 349,
   "id": "84d1a6a0-ebae-4616-81e1-a5a33dabc0c4",
   "metadata": {},
   "outputs": [
    {
     "name": "stdin",
     "output_type": "stream",
     "text": [
      "Please enter your budget:  99999999\n",
      "Please enter your age limit:  27\n"
     ]
    },
    {
     "name": "stdout",
     "output_type": "stream",
     "text": [
      "['Trae Young', 'Zach LaVine', 'John Collins', 'John Konchar', 'RaiQuan Gray']\n"
     ]
    }
   ],
   "source": [
    "#Finding the most efficient player according to the budget and the age factors\n",
    "budget = float(input(\"Please enter your budget: \"))\n",
    "age = float(input(\"Please enter your age limit: \"))\n",
    "player_bought= []\n",
    "def most_efficient_player(budget, data, age):\n",
    "    i = 0\n",
    "    while i < 466:\n",
    "        if budget >= data[\"Salary\"][i] and data[\"Age\"][i]<= age:\n",
    "            budget -=data[\"Salary\"][i]\n",
    "            player_bought.append(data[\"Player Name\"][i])\n",
    "            i+=1\n",
    "        else:\n",
    "            i+=1\n",
    "    return(player_bought)\n",
    "    \n",
    "players = most_efficient_player(budget, data, age)\n",
    "print(players)"
   ]
  },
  {
   "cell_type": "code",
   "execution_count": 341,
   "id": "943b2fee-97aa-4663-8acf-c6406808fa03",
   "metadata": {},
   "outputs": [
    {
     "name": "stdin",
     "output_type": "stream",
     "text": [
      "Please give me good budget so I can buy Steph Curry 9999999999\n"
     ]
    },
    {
     "name": "stdout",
     "output_type": "stream",
     "text": [
      "['Stephen Curry', 'John Wall', 'Russell Westbrook', 'LeBron James', 'Kevin Durant']\n"
     ]
    }
   ],
   "source": [
    "#Finding the best first five according to the  budget\n",
    "budget = float(input(\"Please give me good budget so I can buy Steph Curry\"))\n",
    "player_list= []\n",
    "PG_budget = 0.25*budget\n",
    "PF_budget = 0.15*budget\n",
    "SG_budget = 0.15*budget\n",
    "SF_budget = 0.20*budget\n",
    "C_budget = 0.25*budget\n",
    "def first_five(p_budget, data):\n",
    "    i = 0\n",
    "    k = 0\n",
    "    \n",
    "    while i < 466 and k< 1:\n",
    "        if p_budget >= data[\"Salary\"][i] and data[\"Player Name\"][i] not in player_list:\n",
    "            p_budget -=data[\"Salary\"][i]\n",
    "            player_list.append(data[\"Player Name\"][i])\n",
    "            i+=1\n",
    "            k+=1\n",
    "        else:\n",
    "            i+=1\n",
    "    return(player_list)\n",
    "    \n",
    "first_five(PG_budget, data)\n",
    "first_five(PF_budget, data)\n",
    "first_five(SG_budget, data)\n",
    "first_five(SF_budget, data)\n",
    "first_five(C_budget, data)\n",
    "print(player_list)"
   ]
  },
  {
   "cell_type": "markdown",
   "id": "cdb4835d-5f1f-46cb-bd61-9ac99bfb03e1",
   "metadata": {},
   "source": [
    " "
   ]
  },
  {
   "cell_type": "markdown",
   "id": "ed339924-0fe1-42d4-8e62-1d87dc35bb55",
   "metadata": {},
   "source": [
    "## Creating the Dream Team\n"
   ]
  },
  {
   "cell_type": "code",
   "execution_count": 384,
   "id": "d8cd1f09-adc6-4649-b840-2f363f842d7c",
   "metadata": {},
   "outputs": [
    {
     "name": "stdout",
     "output_type": "stream",
     "text": [
      "The highest score for a PG is: 10.7\n",
      "The player is: James Harden with a salary of 33000000\n"
     ]
    },
    {
     "data": {
      "text/plain": [
       "[['James Harden', 'PG', 33000000]]"
      ]
     },
     "execution_count": 384,
     "metadata": {},
     "output_type": "execute_result"
    }
   ],
   "source": [
    "#Finding the best point guard\n",
    "player_list= []\n",
    "highest_score = data.groupby([\"Position\", \"Player Name\", \"Salary\"])[\"AST\"].mean()\n",
    "\n",
    "def best_PG(data):\n",
    "    highest_score = data.groupby(\"Player Name\")[\"AST\"].mean()\n",
    "    pg_players = data.loc[data[\"Position\"] == \"PG\", [\"Player Name\", \"Salary\", \"AST\"]]\n",
    "\n",
    "    if not pg_players.empty:\n",
    "        max_pg_row = pg_players.loc[pg_players[\"AST\"].idxmax()]\n",
    "        player_name = max_pg_row[\"Player Name\"]\n",
    "        player_salary = max_pg_row[\"Salary\"]\n",
    "        max_pg_asisst = max_pg_row[\"AST\"]\n",
    "        player_list.append([player_name,\"PG\",player_salary])\n",
    "\n",
    "        \n",
    "        print(f\"The highest score for a PG is: {max_pg_asisst}\")\n",
    "        print(f\"The player is: {player_name} with a salary of {player_salary}\")\n",
    "        return(player_list)\n",
    "    \n",
    "best_PG(data)\n"
   ]
  },
  {
   "cell_type": "code",
   "execution_count": 386,
   "id": "2b578ccf-02af-455a-ab76-1229f1fbae86",
   "metadata": {},
   "outputs": [
    {
     "name": "stdout",
     "output_type": "stream",
     "text": [
      "The highest score for a PF is: 31.1\n",
      "The player is: Giannis Antetokounmpo with a salary of 42492492\n"
     ]
    },
    {
     "data": {
      "text/plain": [
       "[['James Harden', 'PG', 33000000], ['Giannis Antetokounmpo', 'PF', 42492492]]"
      ]
     },
     "execution_count": 386,
     "metadata": {},
     "output_type": "execute_result"
    }
   ],
   "source": [
    "#Finding the best Power Forward\n",
    "highest_score = data.groupby([\"Position\", \"Player Name\", \"Salary\"])[\"PTS\"].mean()\n",
    "\n",
    "def best_PF(data):\n",
    "    highest_score = data.groupby(\"Player Name\")[\"PTS\"].mean()\n",
    "    pg_players = data.loc[data[\"Position\"] == \"PF\", [\"Player Name\", \"Salary\", \"PTS\"]]\n",
    "\n",
    "    if not pg_players.empty:\n",
    "        max_pg_row = pg_players.loc[pg_players[\"PTS\"].idxmax()]\n",
    "        player_name = max_pg_row[\"Player Name\"]\n",
    "        player_salary = max_pg_row[\"Salary\"]\n",
    "        max_pg_score = max_pg_row[\"PTS\"]\n",
    "        player_list.append([player_name,\"PF\",player_salary])\n",
    "\n",
    "        \n",
    "        print(f\"The highest score for a PF is: {max_pg_score}\")\n",
    "        print(f\"The player is: {player_name} with a salary of {player_salary}\")\n",
    "        return(player_list)\n",
    "    \n",
    "best_PF(data)\n"
   ]
  },
  {
   "cell_type": "code",
   "execution_count": 388,
   "id": "b6783af8-41dc-4b43-ac8c-62a66e93cdd9",
   "metadata": {},
   "outputs": [
    {
     "name": "stdout",
     "output_type": "stream",
     "text": [
      "The highest score for SG is: 9.3\n",
      "The player is: Donovan Mitchell with a salary of 30913750\n"
     ]
    },
    {
     "data": {
      "text/plain": [
       "[['James Harden', 'PG', 33000000],\n",
       " ['Giannis Antetokounmpo', 'PF', 42492492],\n",
       " ['Donovan Mitchell', 'SG', 30913750]]"
      ]
     },
     "execution_count": 388,
     "metadata": {},
     "output_type": "execute_result"
    }
   ],
   "source": [
    "#Finding the best Shooting Guard\n",
    "highest_score = data.groupby([\"Position\", \"Player Name\", \"Salary\"])[\"3PA\"].mean()\n",
    "\n",
    "def best_SG(data):\n",
    "    highest_score = data.groupby(\"Player Name\")[\"3PA\"].mean()\n",
    "    pg_players = data.loc[data[\"Position\"] == \"SG\", [\"Player Name\", \"Salary\", \"3PA\"]]\n",
    "\n",
    "    if not pg_players.empty:\n",
    "        max_pg_row = pg_players.loc[pg_players[\"3PA\"].idxmax()]\n",
    "        player_name = max_pg_row[\"Player Name\"]\n",
    "        player_salary = max_pg_row[\"Salary\"]\n",
    "        max_pg_score = max_pg_row[\"3PA\"]\n",
    "        player_list.append([player_name,\"SG\",player_salary])\n",
    "\n",
    "        \n",
    "        print(f\"The highest score for SG is: {max_pg_score}\")\n",
    "        print(f\"The player is: {player_name} with a salary of {player_salary}\")\n",
    "        return(player_list)\n",
    "    \n",
    "best_SG(data)"
   ]
  },
  {
   "cell_type": "code",
   "execution_count": 390,
   "id": "49c773a4-65fa-40cd-9e97-93fcadb3991f",
   "metadata": {},
   "outputs": [
    {
     "name": "stdout",
     "output_type": "stream",
     "text": [
      "The highest score for a SF is: 15.7\n",
      "The player is: DeMar DeRozan with a salary of 27300000\n"
     ]
    },
    {
     "data": {
      "text/plain": [
       "[['James Harden', 'PG', 33000000],\n",
       " ['Giannis Antetokounmpo', 'PF', 42492492],\n",
       " ['Donovan Mitchell', 'SG', 30913750],\n",
       " ['DeMar DeRozan', 'SF', 27300000]]"
      ]
     },
     "execution_count": 390,
     "metadata": {},
     "output_type": "execute_result"
    }
   ],
   "source": [
    "#Finding the best Shooting Forward\n",
    "highest_score = data.groupby([\"Position\", \"Player Name\", \"Salary\"])[\"2PA\"].mean()\n",
    "\n",
    "def best_SF(data):\n",
    "    highest_score = data.groupby(\"Player Name\")[\"2PA\"].mean()\n",
    "    pg_players = data.loc[data[\"Position\"] == \"SF\", [\"Player Name\", \"Salary\", \"2PA\"]]\n",
    "\n",
    "    if not pg_players.empty:\n",
    "        max_pg_row = pg_players.loc[pg_players[\"2PA\"].idxmax()]\n",
    "        player_name = max_pg_row[\"Player Name\"]\n",
    "        player_salary = max_pg_row[\"Salary\"]\n",
    "        max_pg_score = max_pg_row[\"2PA\"]\n",
    "        player_list.append([player_name,\"SF\", player_salary])\n",
    "\n",
    "        \n",
    "        print(f\"The highest score for a SF is: {max_pg_score}\")\n",
    "        print(f\"The player is: {player_name} with a salary of {player_salary}\")\n",
    "        return(player_list)\n",
    "    \n",
    "best_SF(data)"
   ]
  },
  {
   "cell_type": "code",
   "execution_count": 392,
   "id": "122f6013-38b2-4ecd-be06-8a1cb0675ee4",
   "metadata": {},
   "outputs": [
    {
     "name": "stdout",
     "output_type": "stream",
     "text": [
      "The highest score for a C is: 12.5\n",
      "The player is: Anthony Davis with a salary of 37980720\n"
     ]
    },
    {
     "data": {
      "text/plain": [
       "[['James Harden', 'PG', 33000000],\n",
       " ['Giannis Antetokounmpo', 'PF', 42492492],\n",
       " ['Donovan Mitchell', 'SG', 30913750],\n",
       " ['DeMar DeRozan', 'SF', 27300000],\n",
       " ['Anthony Davis', 'C', 37980720]]"
      ]
     },
     "execution_count": 392,
     "metadata": {},
     "output_type": "execute_result"
    }
   ],
   "source": [
    "#Finding the best Center\n",
    "highest_score = data.groupby([\"Position\", \"Player Name\", \"Salary\"])[\"TRB\"].mean()\n",
    "\n",
    "def best_C(data):\n",
    "    highest_score = data.groupby(\"Player Name\")[\"2PA\"].mean()\n",
    "    pg_players = data.loc[data[\"Position\"] == \"C\", [\"Player Name\", \"Salary\", \"TRB\"]]\n",
    "\n",
    "    if not pg_players.empty:\n",
    "        max_pg_row = pg_players.loc[pg_players[\"TRB\"].idxmax()]\n",
    "        player_name = max_pg_row[\"Player Name\"]\n",
    "        player_salary = max_pg_row[\"Salary\"]\n",
    "        max_pg_score = max_pg_row[\"TRB\"]\n",
    "        player_list.append([player_name,\"C\",player_salary])\n",
    "\n",
    "        \n",
    "        print(f\"The highest score for a C is: {max_pg_score}\")\n",
    "        print(f\"The player is: {player_name} with a salary of {player_salary}\")\n",
    "        return(player_list)\n",
    "    \n",
    "best_C(data)"
   ]
  },
  {
   "cell_type": "code",
   "execution_count": 412,
   "id": "8d215ccb-f3aa-4d82-8444-20ad7d662e58",
   "metadata": {},
   "outputs": [
    {
     "data": {
      "text/html": [
       "<div>\n",
       "<style scoped>\n",
       "    .dataframe tbody tr th:only-of-type {\n",
       "        vertical-align: middle;\n",
       "    }\n",
       "\n",
       "    .dataframe tbody tr th {\n",
       "        vertical-align: top;\n",
       "    }\n",
       "\n",
       "    .dataframe thead th {\n",
       "        text-align: right;\n",
       "    }\n",
       "</style>\n",
       "<table border=\"1\" class=\"dataframe\">\n",
       "  <thead>\n",
       "    <tr style=\"text-align: right;\">\n",
       "      <th></th>\n",
       "      <th>Player Name</th>\n",
       "      <th>Position</th>\n",
       "      <th>Salary</th>\n",
       "    </tr>\n",
       "  </thead>\n",
       "  <tbody>\n",
       "    <tr>\n",
       "      <th>0</th>\n",
       "      <td>James Harden</td>\n",
       "      <td>PG</td>\n",
       "      <td>33000000</td>\n",
       "    </tr>\n",
       "    <tr>\n",
       "      <th>1</th>\n",
       "      <td>Giannis Antetokounmpo</td>\n",
       "      <td>PF</td>\n",
       "      <td>42492492</td>\n",
       "    </tr>\n",
       "    <tr>\n",
       "      <th>2</th>\n",
       "      <td>Donovan Mitchell</td>\n",
       "      <td>SG</td>\n",
       "      <td>30913750</td>\n",
       "    </tr>\n",
       "    <tr>\n",
       "      <th>3</th>\n",
       "      <td>DeMar DeRozan</td>\n",
       "      <td>SF</td>\n",
       "      <td>27300000</td>\n",
       "    </tr>\n",
       "    <tr>\n",
       "      <th>4</th>\n",
       "      <td>Anthony Davis</td>\n",
       "      <td>C</td>\n",
       "      <td>37980720</td>\n",
       "    </tr>\n",
       "  </tbody>\n",
       "</table>\n",
       "</div>"
      ],
      "text/plain": [
       "             Player Name Position    Salary\n",
       "0           James Harden       PG  33000000\n",
       "1  Giannis Antetokounmpo       PF  42492492\n",
       "2       Donovan Mitchell       SG  30913750\n",
       "3          DeMar DeRozan       SF  27300000\n",
       "4          Anthony Davis        C  37980720"
      ]
     },
     "execution_count": 412,
     "metadata": {},
     "output_type": "execute_result"
    }
   ],
   "source": [
    "import pandas as pd\n",
    "df = pd.DataFrame({'Player Name': [player_list[0][0], player_list[1][0], player_list[2][0], player_list[3][0], player_list[4][0]],\n",
    "                   'Position': [player_list[0][1],player_list[1][1],player_list[2][1],player_list[3][1],player_list[4][1]],\n",
    "                   'Salary': [player_list[0][2],player_list[1][2],player_list[2][2],player_list[3][2],player_list[4][2]]},\n",
    "                   columns = ['Player Name', 'Position', 'Salary'])\n",
    "df"
   ]
  },
  {
   "cell_type": "code",
   "execution_count": 416,
   "id": "7d62bbab-15f7-4312-8489-8d3ddb74080f",
   "metadata": {},
   "outputs": [
    {
     "name": "stdout",
     "output_type": "stream",
     "text": [
      "The total cost is: 171686962\n"
     ]
    }
   ],
   "source": [
    "total = 0\n",
    "for i in range(len(player_list)):\n",
    "    total+= player_list[i][2]\n",
    "print(f\"The total cost is: {total}\")"
   ]
  },
  {
   "cell_type": "markdown",
   "id": "fb9f78cf-4894-446a-9bfa-eb19ddbf668c",
   "metadata": {},
   "source": [
    " "
   ]
  },
  {
   "cell_type": "markdown",
   "id": "ceafe3aa-9d58-4a39-82e7-096e6d98398f",
   "metadata": {},
   "source": [
    " "
   ]
  },
  {
   "cell_type": "markdown",
   "id": "99063d82-ee09-4f22-a7aa-7b9bea830e27",
   "metadata": {},
   "source": [
    "## Player Search Engine\n"
   ]
  },
  {
   "cell_type": "code",
   "execution_count": 549,
   "id": "60b25cd3-216d-4f3d-a909-68411200fa57",
   "metadata": {},
   "outputs": [
    {
     "name": "stdin",
     "output_type": "stream",
     "text": [
      "Enter the position of the player:  PG\n",
      "Enter the point average: (0-33.1) 20\n",
      "Enter the block average: (0-2.5) 0.2\n",
      "Enter the turnover average: (0-4.1) 4\n",
      "Enter the steal average: (0-3.0) 0.2\n",
      "Enter the assist average: (0-10.7) 4\n",
      "Enter the rebound average: (0-12.5) 5\n"
     ]
    },
    {
     "data": {
      "text/html": [
       "<div>\n",
       "<style scoped>\n",
       "    .dataframe tbody tr th:only-of-type {\n",
       "        vertical-align: middle;\n",
       "    }\n",
       "\n",
       "    .dataframe tbody tr th {\n",
       "        vertical-align: top;\n",
       "    }\n",
       "\n",
       "    .dataframe thead th {\n",
       "        text-align: right;\n",
       "    }\n",
       "</style>\n",
       "<table border=\"1\" class=\"dataframe\">\n",
       "  <thead>\n",
       "    <tr style=\"text-align: right;\">\n",
       "      <th></th>\n",
       "      <th>Unnamed: 0</th>\n",
       "      <th>Player Name</th>\n",
       "      <th>Salary</th>\n",
       "      <th>Position</th>\n",
       "      <th>Age</th>\n",
       "      <th>Team</th>\n",
       "      <th>GP</th>\n",
       "      <th>GS</th>\n",
       "      <th>MP</th>\n",
       "      <th>FG</th>\n",
       "      <th>...</th>\n",
       "      <th>TOV%</th>\n",
       "      <th>USG%</th>\n",
       "      <th>OWS</th>\n",
       "      <th>DWS</th>\n",
       "      <th>WS</th>\n",
       "      <th>WS/48</th>\n",
       "      <th>OBPM</th>\n",
       "      <th>DBPM</th>\n",
       "      <th>BPM</th>\n",
       "      <th>VORP</th>\n",
       "    </tr>\n",
       "  </thead>\n",
       "  <tbody>\n",
       "    <tr>\n",
       "      <th>0</th>\n",
       "      <td>0</td>\n",
       "      <td>Stephen Curry</td>\n",
       "      <td>48070014</td>\n",
       "      <td>PG</td>\n",
       "      <td>34</td>\n",
       "      <td>GSW</td>\n",
       "      <td>56</td>\n",
       "      <td>56</td>\n",
       "      <td>34.7</td>\n",
       "      <td>10.0</td>\n",
       "      <td>...</td>\n",
       "      <td>12.5</td>\n",
       "      <td>31.0</td>\n",
       "      <td>5.8</td>\n",
       "      <td>2.0</td>\n",
       "      <td>7.8</td>\n",
       "      <td>0.192</td>\n",
       "      <td>7.5</td>\n",
       "      <td>0.1</td>\n",
       "      <td>7.5</td>\n",
       "      <td>4.7</td>\n",
       "    </tr>\n",
       "    <tr>\n",
       "      <th>11</th>\n",
       "      <td>11</td>\n",
       "      <td>Kyrie Irving</td>\n",
       "      <td>38917057</td>\n",
       "      <td>PG</td>\n",
       "      <td>30</td>\n",
       "      <td>BRK/DAL</td>\n",
       "      <td>60</td>\n",
       "      <td>60</td>\n",
       "      <td>37.4</td>\n",
       "      <td>9.9</td>\n",
       "      <td>...</td>\n",
       "      <td>8.8</td>\n",
       "      <td>28.9</td>\n",
       "      <td>5.4</td>\n",
       "      <td>2.0</td>\n",
       "      <td>7.4</td>\n",
       "      <td>0.159</td>\n",
       "      <td>4.8</td>\n",
       "      <td>-0.7</td>\n",
       "      <td>4.1</td>\n",
       "      <td>3.5</td>\n",
       "    </tr>\n",
       "    <tr>\n",
       "      <th>29</th>\n",
       "      <td>29</td>\n",
       "      <td>James Harden</td>\n",
       "      <td>33000000</td>\n",
       "      <td>PG</td>\n",
       "      <td>33</td>\n",
       "      <td>PHI</td>\n",
       "      <td>58</td>\n",
       "      <td>58</td>\n",
       "      <td>36.8</td>\n",
       "      <td>6.4</td>\n",
       "      <td>...</td>\n",
       "      <td>16.3</td>\n",
       "      <td>25.0</td>\n",
       "      <td>5.8</td>\n",
       "      <td>2.6</td>\n",
       "      <td>8.4</td>\n",
       "      <td>0.188</td>\n",
       "      <td>5.1</td>\n",
       "      <td>0.3</td>\n",
       "      <td>5.4</td>\n",
       "      <td>4.0</td>\n",
       "    </tr>\n",
       "    <tr>\n",
       "      <th>104</th>\n",
       "      <td>104</td>\n",
       "      <td>Ja Morant</td>\n",
       "      <td>12119440</td>\n",
       "      <td>PG</td>\n",
       "      <td>23</td>\n",
       "      <td>MEM</td>\n",
       "      <td>61</td>\n",
       "      <td>59</td>\n",
       "      <td>31.9</td>\n",
       "      <td>9.3</td>\n",
       "      <td>...</td>\n",
       "      <td>12.6</td>\n",
       "      <td>34.9</td>\n",
       "      <td>3.4</td>\n",
       "      <td>2.6</td>\n",
       "      <td>6.0</td>\n",
       "      <td>0.148</td>\n",
       "      <td>5.2</td>\n",
       "      <td>0.5</td>\n",
       "      <td>5.7</td>\n",
       "      <td>3.8</td>\n",
       "    </tr>\n",
       "    <tr>\n",
       "      <th>142</th>\n",
       "      <td>142</td>\n",
       "      <td>LaMelo Ball</td>\n",
       "      <td>8623920</td>\n",
       "      <td>PG</td>\n",
       "      <td>21</td>\n",
       "      <td>CHO</td>\n",
       "      <td>36</td>\n",
       "      <td>36</td>\n",
       "      <td>35.2</td>\n",
       "      <td>8.2</td>\n",
       "      <td>...</td>\n",
       "      <td>14.3</td>\n",
       "      <td>30.0</td>\n",
       "      <td>0.6</td>\n",
       "      <td>1.2</td>\n",
       "      <td>1.8</td>\n",
       "      <td>0.068</td>\n",
       "      <td>3.2</td>\n",
       "      <td>-0.8</td>\n",
       "      <td>2.4</td>\n",
       "      <td>1.4</td>\n",
       "    </tr>\n",
       "  </tbody>\n",
       "</table>\n",
       "<p>5 rows × 52 columns</p>\n",
       "</div>"
      ],
      "text/plain": [
       "     Unnamed: 0    Player Name    Salary Position  Age     Team  GP  GS    MP  \\\n",
       "0             0  Stephen Curry  48070014       PG   34      GSW  56  56  34.7   \n",
       "11           11   Kyrie Irving  38917057       PG   30  BRK/DAL  60  60  37.4   \n",
       "29           29   James Harden  33000000       PG   33      PHI  58  58  36.8   \n",
       "104         104      Ja Morant  12119440       PG   23      MEM  61  59  31.9   \n",
       "142         142    LaMelo Ball   8623920       PG   21      CHO  36  36  35.2   \n",
       "\n",
       "       FG  ...  TOV%  USG%  OWS  DWS   WS  WS/48  OBPM  DBPM  BPM  VORP  \n",
       "0    10.0  ...  12.5  31.0  5.8  2.0  7.8  0.192   7.5   0.1  7.5   4.7  \n",
       "11    9.9  ...   8.8  28.9  5.4  2.0  7.4  0.159   4.8  -0.7  4.1   3.5  \n",
       "29    6.4  ...  16.3  25.0  5.8  2.6  8.4  0.188   5.1   0.3  5.4   4.0  \n",
       "104   9.3  ...  12.6  34.9  3.4  2.6  6.0  0.148   5.2   0.5  5.7   3.8  \n",
       "142   8.2  ...  14.3  30.0  0.6  1.2  1.8  0.068   3.2  -0.8  2.4   1.4  \n",
       "\n",
       "[5 rows x 52 columns]"
      ]
     },
     "execution_count": 549,
     "metadata": {},
     "output_type": "execute_result"
    }
   ],
   "source": [
    "position = input(\"Enter the position of the player: \")\n",
    "points = float(input(\"Enter the point average: (0-33.1)\"))\n",
    "blocks = float(input(\"Enter the block average: (0-2.5)\"))\n",
    "turnovers = float(input(\"Enter the turnover average: (0-4.1)\"))\n",
    "steals = float(input(\"Enter the steal average: (0-3.0)\"))\n",
    "assists = float(input(\"Enter the assist average: (0-10.7)\"))\n",
    "rebounds = float(input(\"Enter the rebound average: (0-12.5)\"))\n",
    "k=0\n",
    "\n",
    "\n",
    "def player_search(position,data, points, blocks, turnovers, steals, assists, rebounds):\n",
    "    filtered_players = data.loc[\n",
    "          (data[\"Position\"] == position) &\n",
    "            (data[\"PTS\"] >= points) &\n",
    "            (data[\"BLK\"] >= blocks) &\n",
    "            (data[\"STL\"] >= steals) &\n",
    "            (data[\"TOV\"] <= turnovers) &\n",
    "            (data[\"AST\"] >= assists) &\n",
    "            (data[\"TRB\"] >= rebounds)\n",
    "        ]\n",
    "    if position == \"PG\":\n",
    "        pg_players_list = filtered_players.loc[filtered_players[\"Position\"] == \"PG\"]\n",
    "        \n",
    "        return pg_players_list\n",
    "            \n",
    "        \n",
    "\n",
    "    elif position == \"PF\":\n",
    "        pf_players_list = filtered_players.loc[filtered_players[\"Position\"] == \"PF\"]\n",
    "           \n",
    "        return pf_players_list\n",
    "\n",
    "    elif position == \"SG\":\n",
    "        sg_players_list = filtered_players.loc[filtered_players[\"Position\"] == \"SG\"]\n",
    "           \n",
    "        return sg_players_list\n",
    "\n",
    "    elif position == \"SF\":\n",
    "        sf_players_list = filtered_players.loc[filtered_players[\"Position\"] == \"SF\"]\n",
    "           \n",
    "        return sf_players_list\n",
    "\n",
    "    elif position == \"C\":\n",
    "        c_players_list = filtered_players.loc[filtered_players[\"Position\"] == \"C\"]\n",
    "           \n",
    "        return c_players_list\n",
    "\n",
    "\n",
    "    else:\n",
    "        print(\"Please enter a valid position!\")\n",
    "        \n",
    "\n",
    "    return best_players\n",
    "player_search(position,data, points, blocks, turnovers, steals, assists, rebounds)"
   ]
  }
 ],
 "metadata": {
  "kernelspec": {
   "display_name": "Python 3 (ipykernel)",
   "language": "python",
   "name": "python3"
  },
  "language_info": {
   "codemirror_mode": {
    "name": "ipython",
    "version": 3
   },
   "file_extension": ".py",
   "mimetype": "text/x-python",
   "name": "python",
   "nbconvert_exporter": "python",
   "pygments_lexer": "ipython3",
   "version": "3.12.4"
  }
 },
 "nbformat": 4,
 "nbformat_minor": 5
}
